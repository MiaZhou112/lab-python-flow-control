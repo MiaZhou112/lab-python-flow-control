{
 "cells": [
  {
   "cell_type": "markdown",
   "id": "d3bfc191-8885-42ee-b0a0-bbab867c6f9f",
   "metadata": {
    "tags": []
   },
   "source": [
    "# Lab | Flow Control"
   ]
  },
  {
   "cell_type": "markdown",
   "id": "3851fcd1-cf98-4653-9c89-e003b7ec9400",
   "metadata": {},
   "source": [
    "## Exercise: Managing Customer Orders Optimized\n",
    "\n",
    "In the last lab, you were starting an online store that sells various products. To ensure smooth operations, you developed a program that manages customer orders and inventory.\n",
    "\n",
    "You did so without using flow control. Let's go a step further and improve this code.\n",
    "\n",
    "Follow the steps below to complete the exercise:\n",
    "\n",
    "1. Look at your code from the lab data structures, and improve repeated code with loops.\n",
    "\n",
    "2. Instead of asking the user to input the name of three products that a customer wants to order, do the following:\n",
    "    \n",
    "    a. Prompt the user to enter the name of a product that a customer wants to order.\n",
    "    \n",
    "    b. Add the product name to the \"customer_orders\" set.\n",
    "    \n",
    "    c. Ask the user if they want to add another product (yes/no).\n",
    "    \n",
    "    d. Continue the loop until the user does not want to add another product.\n",
    "\n",
    "3. Instead of updating the inventory by subtracting 1 from the quantity of each product, only do it for  the products that were ordered (those in \"customer_orders\")."
   ]
  },
  {
   "cell_type": "code",
   "execution_count": 4,
   "id": "6ba8d5fa-b3c2-4b1d-a88c-0872b851781c",
   "metadata": {},
   "outputs": [
    {
     "name": "stdin",
     "output_type": "stream",
     "text": [
      "Please add a product that you want to order from our product list ['t-shirt', 'mug', 'hat', 'book', 'keychain'] mug\n",
      "Do you want to add another product? Please input yes or no yes\n"
     ]
    },
    {
     "name": "stdout",
     "output_type": "stream",
     "text": [
      "Small reminder:please do not add duplicate products.\n"
     ]
    },
    {
     "name": "stdin",
     "output_type": "stream",
     "text": [
      "Please add a product that you want to order from our product list ['t-shirt', 'mug', 'hat', 'book', 'keychain'] hat\n",
      "Do you want to add another product? Please input yes or no yes\n"
     ]
    },
    {
     "name": "stdout",
     "output_type": "stream",
     "text": [
      "Small reminder:please do not add duplicate products.\n"
     ]
    },
    {
     "name": "stdin",
     "output_type": "stream",
     "text": [
      "Please add a product that you want to order from our product list ['t-shirt', 'mug', 'hat', 'book', 'keychain'] hat\n",
      "Do you want to add another product? Please input yes or no no\n"
     ]
    },
    {
     "name": "stdout",
     "output_type": "stream",
     "text": [
      "The products you have ordered are: {'hat', 'mug'}\n"
     ]
    }
   ],
   "source": [
    "products = [\"t-shirt\", \"mug\", \"hat\", \"book\", \"keychain\"]\n",
    "customer_orders = set()\n",
    "\n",
    "###############################\n",
    "\n",
    "product = input(f\"Please add a product that you want to order from our product list {products}\")\n",
    "customer_orders.add(product)\n",
    "\n",
    "###############################\n",
    "while True:\n",
    "    Response = input(\"Do you want to add another product? Please input yes or no\")  \n",
    "    if Response.lower() == \"yes\":\n",
    "        print(\"Small reminder:please do not add duplicate products.\")\n",
    "        product = input(f\"Please add a product that you want to order from our product list {products}\")\n",
    "        customer_orders.add(product)\n",
    "    elif Response.lower() == \"no\":\n",
    "        break\n",
    "    else:\n",
    "        print(\"Your response is not valid, please input yes or no.\")      \n",
    "\n",
    "###############################\n",
    "\n",
    "print(\"The products you have ordered are:\",customer_orders)\n",
    "\n",
    "    "
   ]
  },
  {
   "cell_type": "code",
   "execution_count": 9,
   "id": "905f8df6-bdb5-436a-868f-39293b6ea820",
   "metadata": {},
   "outputs": [
    {
     "name": "stdout",
     "output_type": "stream",
     "text": [
      "Updated inventory overview: \n",
      "\n",
      "t-shirt 10\n",
      "mug 9\n",
      "hat 9\n",
      "book 10\n",
      "keychain 10\n"
     ]
    }
   ],
   "source": [
    "inventory = {\"t-shirt\":10, \"mug\":10, \"hat\":10, \"book\":10, \"keychain\":10}\n",
    "\n",
    "for i in customer_orders:\n",
    "    inventory[i] -= 1\n",
    "\n",
    "print(\"Updated inventory overview: \\n\")\n",
    "for p,q in inventory.items():\n",
    "    print(p,q)"
   ]
  },
  {
   "cell_type": "code",
   "execution_count": null,
   "id": "b792e368-608b-4796-ae15-df1f55568c87",
   "metadata": {},
   "outputs": [],
   "source": []
  }
 ],
 "metadata": {
  "kernelspec": {
   "display_name": "Python 3 (ipykernel)",
   "language": "python",
   "name": "python3"
  },
  "language_info": {
   "codemirror_mode": {
    "name": "ipython",
    "version": 3
   },
   "file_extension": ".py",
   "mimetype": "text/x-python",
   "name": "python",
   "nbconvert_exporter": "python",
   "pygments_lexer": "ipython3",
   "version": "3.10.10"
  }
 },
 "nbformat": 4,
 "nbformat_minor": 5
}
